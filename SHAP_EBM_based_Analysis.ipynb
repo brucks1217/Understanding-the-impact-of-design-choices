{
 "cells": [
  {
   "cell_type": "code",
   "execution_count": null,
   "metadata": {
    "scrolled": true
   },
   "outputs": [],
   "source": [
    "import os\n",
    "import pickle\n",
    "import pandas as pd\n",
    "import numpy as np\n",
    "import matplotlib.pyplot as plt\n",
    "import numpy as np\n",
    "import seaborn as sns\n",
    "import xgboost \n",
    "import shap\n",
    "from interpret import show\n",
    "\n",
    "\n",
    "import interpret.glassbox\n",
    "\n",
    "file_loc = '*/GA_result/'\n",
    "\n",
    "file_dir = ['BPIC2011_1_100/','BPIC2011_2_100/','BPIC2011_3_100/','BPIC2011_4_100/', 'BPIC2012_O_ACCEPTED_100/','BPIC2012_O_CANCELLED_100/','BPIC2012_O_DECLINED_100/',\n",
    "            'BPIC2015_1_100/','BPIC2015_2_100/','BPIC2015_3_100/','BPIC2015_4_100/','BPIC2015_5_100/','BPIC2017_O_Accepted_20/','BPIC2017_O_Accepted_30/','BPIC2017_O_Accepted_40/']\n",
    "\n",
    "file_tag = ['BPIC2011_1','BPIC2011_2','BPIC2011_3','BPIC2011_4','BPIC2012_1','BPIC2012_2','BPIC2012_3',\n",
    "            'BPIC2015_1','BPIC2015_2','BPIC2015_3','BPIC2015_4','BPIC2015_5','BPIC2017_20','BPIC2017_30','BPIC2017_40']\n",
    "\n",
    "indep_var = ['Bucketing',\n",
    "        'Decision Tree', 'LightGBM',\n",
    "       'Random Forest', 'Xgboost', 'Encoding', 'Drop act']\n",
    "\n",
    "colors_bin = sns.color_palette(\"colorblind\", len(file_dir))\n"
   ]
  },
  {
   "cell_type": "code",
   "execution_count": null,
   "metadata": {},
   "outputs": [],
   "source": [
    "def shap_val(df_c):\n",
    "    X = df_c.loc[:,['bucketing', 'drop_act', 'encoding_index',\n",
    "        'models_Decision Tree', 'models_LightGBM',\n",
    "       'models_Random Forest', 'models_Xgboost']]#.values\n",
    "    Y = df_c.fit#.values\n",
    "\n",
    "    model = interpret.glassbox.ExplainableBoostingRegressor(interactions=0,random_state=42)\n",
    "    model.fit(X, Y)\n",
    "    explainer = shap.Explainer(model.predict,X)\n",
    "    shap_values = explainer(X)\n",
    "    return shap_values"
   ]
  },
  {
   "cell_type": "code",
   "execution_count": null,
   "metadata": {},
   "outputs": [],
   "source": [
    "def df_concat_maker(fd_):\n",
    "    file_list = os.listdir(file_loc+str(fd))\n",
    "\n",
    "    df_list = []\n",
    "    df_ = pd.DataFrame()\n",
    "    \n",
    "    for i in file_list:\n",
    "        with open(file=(file_loc+str(fd)+str(i)), mode='rb') as f:\n",
    "            df =pickle.load(f)\n",
    "        df_ = pd.concat([df_,df], sort=False)\n",
    "\n",
    "    df_ = pd.get_dummies(data = df_, columns = ['encoding'], prefix = 'encoding')\n",
    "    df_ = pd.get_dummies(data = df_, columns = ['models'], prefix = 'models')\n",
    "    return df_"
   ]
  },
  {
   "cell_type": "code",
   "execution_count": null,
   "metadata": {},
   "outputs": [],
   "source": [
    "shap_bin = []\n",
    "for fd in file_dir:\n",
    "\n",
    "    df_concat = df_concat_maker(fd)\n",
    "    shap_bin.append(list(np.mean(np.abs(shap_val(df_concat).values),axis=0)))\n",
    "\n",
    "shap_bin = np.array(shap_bin)"
   ]
  },
  {
   "cell_type": "code",
   "execution_count": null,
   "metadata": {},
   "outputs": [],
   "source": [
    "\n",
    "fig, ax = plt.subplots(figsize=(32,9))\n",
    "bar_width = 0.05\n",
    "index = np.arange(len(indep_var))\n",
    "\n",
    "for i in range(len(file_dir)):\n",
    "\n",
    "    if i < 4:\n",
    "        plt.bar(index + bar_width*i, shap_bin[i], bar_width, alpha=1, color=colors_bin[i], label=file_tag[i],hatch = '')\n",
    "    elif (4 <= i) and (i < 7):\n",
    "        plt.bar(index + bar_width*i+0.02, shap_bin[i], bar_width, alpha=1, color=colors_bin[i-4], label=file_tag[i],hatch = '..')\n",
    "    elif (7 <= i) and (i < 12):\n",
    "        plt.bar(index + bar_width*i+0.04, shap_bin[i], bar_width, alpha=1, color=colors_bin[i-7], label=file_tag[i],hatch = '\\\\\\\\')\n",
    "    else:\n",
    "        plt.bar(index + bar_width*i+0.06, shap_bin[i], bar_width, alpha=1, color=colors_bin[i-12], label=file_tag[i],hatch = '//')\n",
    "\n",
    "plt.xticks(np.arange(bar_width+0.35, 7+ bar_width, 1), indep_var,fontsize=\"22\")\n",
    "\n",
    "plt.xlabel('Features', size = 25)\n",
    "plt.ylabel('Mean Absolute Shapley value', size = 25)\n",
    "plt.legend(fontsize=\"18\")\n",
    "plt.show()"
   ]
  },
  {
   "cell_type": "code",
   "execution_count": null,
   "metadata": {
    "scrolled": false
   },
   "outputs": [],
   "source": [
    "plt.figure(figsize=(12, 7))\n",
    "marker_bin = ['o','^','x','s','D']\n",
    "for idx,fd in enumerate(file_dir):\n",
    "\n",
    "    df_concat = df_concat_maker(fd)\n",
    "    \n",
    "    shap_value_ = shap_val(df_concat)\n",
    "    if idx < 4:\n",
    "        plt.scatter(shap_value_[:,'bucketing'].data, shap_value_[:,'bucketing'].values,s=18, color=colors_bin[0], label=file_tag[idx],marker = marker_bin[idx])\n",
    "    elif (4 <= idx) and (idx < 7):\n",
    "        plt.scatter(shap_value_[:,'bucketing'].data, shap_value_[:,'bucketing'].values,s=18, color=colors_bin[1], label=file_tag[idx],marker = marker_bin[idx-4])\n",
    "    elif (7 <= idx) and (idx < 12):\n",
    "        plt.scatter(shap_value_[:,'bucketing'].data, shap_value_[:,'bucketing'].values,s=18, color=colors_bin[2], label=file_tag[idx],marker = marker_bin[idx-7])\n",
    "    else:\n",
    "        plt.scatter(shap_value_[:,'bucketing'].data, shap_value_[:,'bucketing'].values,s=18, color=colors_bin[3], label=file_tag[idx],marker = marker_bin[idx-12])\n",
    "\n",
    "plt.legend(fontsize=\"11\")\n",
    "plt.xlabel('Bucketing', size = 20)\n",
    "plt.ylabel('SHAP value for bucketing', size = 20)\n",
    "plt.xlim([-2, 43])     \n",
    "plt.ylim([-0.8, 0.3])\n",
    "plt.show()"
   ]
  },
  {
   "cell_type": "code",
   "execution_count": null,
   "metadata": {
    "scrolled": false
   },
   "outputs": [],
   "source": [
    "for fd in file_dir:\n",
    "\n",
    "    df_concat = df_concat_maker(fd)\n",
    "\n",
    "    shap_value__ = shap_val(df_concat)\n",
    "    \n",
    "    print(fd)\n",
    "    print('models_Decision Tree : ',round(np.mean(shap_value__[:,'models_Decision Tree'].values[np.where(shap_value__[:,'models_Decision Tree'].data == 1)]),5))\n",
    "    print('models_Random Forest : ',round(np.mean(shap_value__[:,'models_Random Forest'].values[np.where(shap_value__[:,'models_Random Forest'].data == 1)]),5))\n",
    "    print('models_LightGBM : ',round(np.mean(shap_value__[:,'models_LightGBM'].values[np.where(shap_value__[:,'models_LightGBM'].data == 1)]),5))\n",
    "    print('models_Xgboost : ',round(np.mean(shap_value__[:,'models_Xgboost'].values[np.where(shap_value__[:,'models_Xgboost'].data == 1)]),5),'\\n')\n",
    "\n",
    "    "
   ]
  },
  {
   "cell_type": "code",
   "execution_count": null,
   "metadata": {
    "scrolled": false
   },
   "outputs": [],
   "source": [
    "for fd in file_dir:\n",
    "\n",
    "    df_concat = df_concat_maker(fd)\n",
    "\n",
    "    shap_value___ = shap_val(df_concat)\n",
    "    print(fd)\n",
    "    print('encoding index : ',round(np.mean(shap_value___[:,'encoding_index'].values[np.where(shap_value___[:,'encoding_index'].data == 1)]),5))\n",
    "    print('encoding aggregate : ',round(np.mean(shap_value___[:,'encoding_index'].values[np.where(shap_value___[:,'encoding_index'].data == 0)]),5),'\\n')\n",
    "\n",
    "    "
   ]
  },
  {
   "cell_type": "code",
   "execution_count": null,
   "metadata": {
    "scrolled": true
   },
   "outputs": [],
   "source": [
    "for fd in file_dir:\n",
    "\n",
    "    df_concat = df_concat_maker(fd)\n",
    "\n",
    "    X = df_concat.loc[:,['bucketing', 'drop_act', 'encoding_index',\n",
    "        'models_Decision Tree', 'models_LightGBM',\n",
    "       'models_Random Forest', 'models_Xgboost']]\n",
    "    Y = df_concat.fit\n",
    "    model = interpret.glassbox.ExplainableBoostingRegressor(interactions=45,random_state=42)\n",
    "    model.fit(X, Y)\n",
    "\n",
    "    print(fd)\n",
    "    show(model.explain_global())\n"
   ]
  },
  {
   "cell_type": "code",
   "execution_count": null,
   "metadata": {},
   "outputs": [],
   "source": []
  }
 ],
 "metadata": {
  "kernelspec": {
   "display_name": "Python 3",
   "language": "python",
   "name": "python3"
  },
  "language_info": {
   "codemirror_mode": {
    "name": "ipython",
    "version": 3
   },
   "file_extension": ".py",
   "mimetype": "text/x-python",
   "name": "python",
   "nbconvert_exporter": "python",
   "pygments_lexer": "ipython3",
   "version": "3.8.5"
  }
 },
 "nbformat": 4,
 "nbformat_minor": 4
}
